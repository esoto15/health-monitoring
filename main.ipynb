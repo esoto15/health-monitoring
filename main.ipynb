{
 "cells": [
  {
   "cell_type": "markdown",
   "metadata": {},
   "source": []
  },
  {
   "cell_type": "code",
   "execution_count": 1,
   "metadata": {},
   "outputs": [],
   "source": [
    "import pandas as pd"
   ]
  },
  {
   "cell_type": "code",
   "execution_count": 5,
   "metadata": {},
   "outputs": [],
   "source": [
    "df =pd.read_excel('jet-ohs-futures-exploration-occupational-psychological-variables-stress-firefighters-data.xlsx', sheet_name='Demographic Data')"
   ]
  },
  {
   "cell_type": "code",
   "execution_count": 6,
   "metadata": {},
   "outputs": [
    {
     "data": {
      "text/html": [
       "<div>\n",
       "<style scoped>\n",
       "    .dataframe tbody tr th:only-of-type {\n",
       "        vertical-align: middle;\n",
       "    }\n",
       "\n",
       "    .dataframe tbody tr th {\n",
       "        vertical-align: top;\n",
       "    }\n",
       "\n",
       "    .dataframe thead th {\n",
       "        text-align: right;\n",
       "    }\n",
       "</style>\n",
       "<table border=\"1\" class=\"dataframe\">\n",
       "  <thead>\n",
       "    <tr style=\"text-align: right;\">\n",
       "      <th></th>\n",
       "      <th>Participant</th>\n",
       "      <th>Age Group</th>\n",
       "      <th>Length of Service</th>\n",
       "      <th>Gender</th>\n",
       "      <th>Systolic Blood Pressure</th>\n",
       "      <th>Diastolic Blood Pressure</th>\n",
       "      <th>Height</th>\n",
       "      <th>Waist Circumference</th>\n",
       "      <th>Glycosylated Haemoglobin</th>\n",
       "      <th>High-density Lipoprotein</th>\n",
       "      <th>...</th>\n",
       "      <th>Trouble Sleeping</th>\n",
       "      <th>Sleep Quality</th>\n",
       "      <th>Cigarette Use Over the Past 30 Days</th>\n",
       "      <th>Alcohol Use Over the Past 12 months</th>\n",
       "      <th>Active Travel Over the Past 7 Days</th>\n",
       "      <th>Sports, Fitness, or Recreational Physical Activity Over the Past 7 Days</th>\n",
       "      <th>Other Physical Activity Over the Past 7 Days</th>\n",
       "      <th>SSS-FF</th>\n",
       "      <th>SOOS-14</th>\n",
       "      <th>PSS-10</th>\n",
       "    </tr>\n",
       "  </thead>\n",
       "  <tbody>\n",
       "    <tr>\n",
       "      <th>0</th>\n",
       "      <td>P001</td>\n",
       "      <td>50-59</td>\n",
       "      <td>26.0</td>\n",
       "      <td>male</td>\n",
       "      <td>147.0</td>\n",
       "      <td>97.5</td>\n",
       "      <td>183.4</td>\n",
       "      <td>108.0</td>\n",
       "      <td>5.2</td>\n",
       "      <td>1.76</td>\n",
       "      <td>...</td>\n",
       "      <td>Sometimes</td>\n",
       "      <td>All of the time</td>\n",
       "      <td>no</td>\n",
       "      <td>once a week</td>\n",
       "      <td>yes</td>\n",
       "      <td>yes</td>\n",
       "      <td>yes</td>\n",
       "      <td>41</td>\n",
       "      <td>2</td>\n",
       "      <td>18</td>\n",
       "    </tr>\n",
       "    <tr>\n",
       "      <th>1</th>\n",
       "      <td>P002</td>\n",
       "      <td>30-39</td>\n",
       "      <td>9.5</td>\n",
       "      <td>male</td>\n",
       "      <td>130.5</td>\n",
       "      <td>72.0</td>\n",
       "      <td>182.7</td>\n",
       "      <td>103.5</td>\n",
       "      <td>4.9</td>\n",
       "      <td>1.54</td>\n",
       "      <td>...</td>\n",
       "      <td>Sometimes</td>\n",
       "      <td>Sometimes</td>\n",
       "      <td>no</td>\n",
       "      <td>2 to 3 times a week</td>\n",
       "      <td>yes</td>\n",
       "      <td>yes</td>\n",
       "      <td>yes</td>\n",
       "      <td>29</td>\n",
       "      <td>9</td>\n",
       "      <td>16</td>\n",
       "    </tr>\n",
       "  </tbody>\n",
       "</table>\n",
       "<p>2 rows × 25 columns</p>\n",
       "</div>"
      ],
      "text/plain": [
       "  Participant Age Group  Length of Service Gender  Systolic Blood Pressure  \\\n",
       "0        P001     50-59               26.0   male                    147.0   \n",
       "1        P002     30-39                9.5   male                    130.5   \n",
       "\n",
       "   Diastolic Blood Pressure  Height  Waist Circumference   \\\n",
       "0                      97.5   183.4                 108.0   \n",
       "1                      72.0   182.7                 103.5   \n",
       "\n",
       "   Glycosylated Haemoglobin  High-density Lipoprotein  ...  Trouble Sleeping  \\\n",
       "0                       5.2                      1.76  ...         Sometimes   \n",
       "1                       4.9                      1.54  ...         Sometimes   \n",
       "\n",
       "     Sleep Quality  Cigarette Use Over the Past 30 Days  \\\n",
       "0  All of the time                                   no   \n",
       "1        Sometimes                                   no   \n",
       "\n",
       "   Alcohol Use Over the Past 12 months Active Travel Over the Past 7 Days  \\\n",
       "0                          once a week                                yes   \n",
       "1                  2 to 3 times a week                                yes   \n",
       "\n",
       "  Sports, Fitness, or Recreational Physical Activity Over the Past 7 Days  \\\n",
       "0                                                yes                        \n",
       "1                                                yes                        \n",
       "\n",
       "  Other Physical Activity Over the Past 7 Days SSS-FF SOOS-14 PSS-10  \n",
       "0                                          yes     41       2     18  \n",
       "1                                          yes     29       9     16  \n",
       "\n",
       "[2 rows x 25 columns]"
      ]
     },
     "execution_count": 6,
     "metadata": {},
     "output_type": "execute_result"
    }
   ],
   "source": [
    "df.head(2)"
   ]
  },
  {
   "cell_type": "code",
   "execution_count": 7,
   "metadata": {},
   "outputs": [
    {
     "data": {
      "text/plain": [
       "Index(['Participant', 'Age Group', 'Length of Service', 'Gender',\n",
       "       'Systolic Blood Pressure', 'Diastolic Blood Pressure', 'Height',\n",
       "       'Waist Circumference ', 'Glycosylated Haemoglobin',\n",
       "       'High-density Lipoprotein', 'Low-density Lipoprotein',\n",
       "       'Heart Rate Variability', 'Hair Cortisol Concentration', 'MS-PSS',\n",
       "       'Sleep Length', 'Trouble Sleeping', 'Sleep Quality',\n",
       "       'Cigarette Use Over the Past 30 Days',\n",
       "       'Alcohol Use Over the Past 12 months',\n",
       "       'Active Travel Over the Past 7 Days',\n",
       "       'Sports, Fitness, or Recreational Physical Activity Over the Past 7 Days',\n",
       "       'Other Physical Activity Over the Past 7 Days', 'SSS-FF', 'SOOS-14',\n",
       "       'PSS-10'],\n",
       "      dtype='object')"
      ]
     },
     "execution_count": 7,
     "metadata": {},
     "output_type": "execute_result"
    }
   ],
   "source": [
    "df.columns"
   ]
  },
  {
   "cell_type": "code",
   "execution_count": 8,
   "metadata": {},
   "outputs": [
    {
     "name": "stdout",
     "output_type": "stream",
     "text": [
      "Mean Squared Error: 21.913420722062146\n"
     ]
    }
   ],
   "source": [
    "from sklearn.model_selection import train_test_split\n",
    "from sklearn.linear_model import LinearRegression\n",
    "from sklearn.metrics import mean_squared_error\n",
    "\n",
    "# Define the features and target variable\n",
    "X = df[['Diastolic Blood Pressure', 'High-density Lipoprotein']]\n",
    "y = df['PSS-10']\n",
    "\n",
    "# Split the data into training and testing sets\n",
    "X_train, X_test, y_train, y_test = train_test_split(X, y, test_size=0.2, random_state=42)\n",
    "\n",
    "# Initialize and train the linear regression model\n",
    "model = LinearRegression()\n",
    "model.fit(X_train, y_train)\n",
    "\n",
    "# Make predictions on the test set\n",
    "y_pred = model.predict(X_test)\n",
    "\n",
    "# Calculate and print the mean squared error\n",
    "mse = mean_squared_error(y_test, y_pred)\n",
    "print(f'Mean Squared Error: {mse}')"
   ]
  },
  {
   "cell_type": "code",
   "execution_count": null,
   "metadata": {},
   "outputs": [],
   "source": []
  }
 ],
 "metadata": {
  "kernelspec": {
   "display_name": "Python 3",
   "language": "python",
   "name": "python3"
  },
  "language_info": {
   "codemirror_mode": {
    "name": "ipython",
    "version": 3
   },
   "file_extension": ".py",
   "mimetype": "text/x-python",
   "name": "python",
   "nbconvert_exporter": "python",
   "pygments_lexer": "ipython3",
   "version": "3.11.9"
  }
 },
 "nbformat": 4,
 "nbformat_minor": 2
}
